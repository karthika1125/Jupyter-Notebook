{
 "cells": [
  {
   "cell_type": "code",
   "execution_count": 5,
   "id": "9ff7d01e-1821-4d42-9cb4-aed6f9cf9bbe",
   "metadata": {},
   "outputs": [
    {
     "name": "stdout",
     "output_type": "stream",
     "text": [
      "    A   B\n",
      "0  22  28\n",
      "1  24  30\n",
      "2  26  32\n"
     ]
    }
   ],
   "source": [
    "                                 #piping\n",
    "import pandas as pd            \n",
    "df=pd.DataFrame({\"A\":[1,2,3],\"B\":[4,5,6]})\n",
    "def add_constant(df,constant):\n",
    "    return df+constant\n",
    "result=df.pipe(add_constant,10).pipe(lambda x:x*2)\n",
    "print(result)"
   ]
  },
  {
   "cell_type": "code",
   "execution_count": 6,
   "id": "ce0a41d5-ceec-4f57-b301-6f397b8c5a56",
   "metadata": {},
   "outputs": [
    {
     "name": "stdout",
     "output_type": "stream",
     "text": [
      "A     6\n",
      "B    15\n",
      "dtype: int64\n",
      "0    5\n",
      "1    7\n",
      "2    9\n",
      "dtype: int64\n"
     ]
    }
   ],
   "source": [
    "                                                    #Apply\n",
    "import pandas as pd\n",
    "df=pd.DataFrame({\"A\":[1,2,3],\"B\":[4,5,6]})\n",
    "result_col=df.apply(lambda x:x.sum(),axis=0)\n",
    "result_row=df.apply(lambda x:x.sum(),axis=1)\n",
    "print(result_col)\n",
    "print(result_row)"
   ]
  },
  {
   "cell_type": "code",
   "execution_count": 9,
   "id": "995591fb-1444-472a-8fb1-037b856b602a",
   "metadata": {},
   "outputs": [
    {
     "name": "stdout",
     "output_type": "stream",
     "text": [
      "    A   B\n",
      "0  10  40\n",
      "1  30  70\n",
      "2  60  90\n"
     ]
    },
    {
     "name": "stderr",
     "output_type": "stream",
     "text": [
      "C:\\Users\\Python\\AppData\\Local\\Temp\\ipykernel_2760\\3246076890.py:4: FutureWarning: DataFrame.applymap has been deprecated. Use DataFrame.map instead.\n",
      "  result=df.applymap(lambda x:x*10)\n"
     ]
    }
   ],
   "source": [
    "                                           #Applymap\n",
    "import pandas as pd\n",
    "df=pd.DataFrame({\"A\":[1,3,6],\"B\":[4,7,9]})\n",
    "result=df.applymap(lambda x:x*10)\n",
    "print(result)"
   ]
  },
  {
   "cell_type": "code",
   "execution_count": 26,
   "id": "69d19c0c-6a5a-4d62-9e50-194f53f740c7",
   "metadata": {},
   "outputs": [
    {
     "name": "stdout",
     "output_type": "stream",
     "text": [
      "category    A    B\n",
      "Date              \n",
      "2023-01   100  300\n",
      "2023-02   200  500\n"
     ]
    }
   ],
   "source": [
    "                                       #pivot\n",
    "import pandas as pd\n",
    "data={\n",
    "    'Data':['2023-01','2023-01','2023-02','2023-02'],\n",
    "    'category':['A','B','A','B'],\n",
    "    'sales':[100,300,200,500]\n",
    "}\n",
    "df=pd.DataFrame(data)\n",
    "df.rename(columns={'Data':'Date'},inplace=True)\n",
    "pivot_table=df.pivot(index=\"Date\",columns=\"category\",values=\"sales\")\n",
    "print(pivot_table)"
   ]
  },
  {
   "cell_type": "code",
   "execution_count": 30,
   "id": "12c3b20f-96ef-4415-939a-9f2118d5af4c",
   "metadata": {},
   "outputs": [
    {
     "name": "stdout",
     "output_type": "stream",
     "text": [
      "Agegroup  Adult  child  All\n",
      "gender                     \n",
      "female       13      6   19\n",
      "male          9      6   15\n",
      "All          22     12   34\n"
     ]
    }
   ],
   "source": [
    "                             #crosstab\n",
    "import pandas as pd\n",
    "data={\n",
    "    'gender':['male','female','male','female','female','male'],\n",
    "    'Agegroup':['child','Adult','child','Adult','child','Adult'],\n",
    "    'count':[5,6,1,7,6,9]\n",
    "}\n",
    "df=pd.DataFrame(data)\n",
    "crosstab_table=pd.crosstab(df['gender'],df['Agegroup'],values=df['count'],aggfunc='sum',margins='True')\n",
    "print(crosstab_table)"
   ]
  },
  {
   "cell_type": "code",
   "execution_count": 33,
   "id": "7d53ec1e-dbe2-4332-ad0f-63100858127d",
   "metadata": {},
   "outputs": [
    {
     "name": "stdout",
     "output_type": "stream",
     "text": [
      "category      A      B      C       D\n",
      "Date                                 \n",
      "2023-01   700.0    NaN    NaN     NaN\n",
      "2023-02     NaN  550.0    NaN     NaN\n",
      "2023-03     NaN    NaN  650.0     NaN\n",
      "2023-04     NaN    NaN    NaN  1350.0\n"
     ]
    }
   ],
   "source": [
    "import pandas as pd\n",
    "data = {\n",
    "    'Data': ['2023-01', '2023-02', '2023-03', '2023-04', '2023-01', '2023-02', '2023-03', '2023-04'],\n",
    "    'category': ['A', 'B', 'C', 'D', 'A', 'B', 'C', 'D'],\n",
    "    'sales': [100, 300, 200, 500, 600, 250, 450, 850]\n",
    "}\n",
    "df = pd.DataFrame(data)\n",
    "df.rename(columns={'Data': 'Date'}, inplace=True)\n",
    "df_aggregated = df.groupby(['Date', 'category'], as_index=False)['sales'].sum()\n",
    "pivot_table = df_aggregated.pivot(index=\"Date\", columns=\"category\", values=\"sales\")\n",
    "print(pivot_table)"
   ]
  },
  {
   "cell_type": "code",
   "execution_count": null,
   "id": "c3d1cd1f-a942-475c-9d74-c2d849ee5634",
   "metadata": {},
   "outputs": [],
   "source": []
  }
 ],
 "metadata": {
  "kernelspec": {
   "display_name": "Python 3 (ipykernel)",
   "language": "python",
   "name": "python3"
  },
  "language_info": {
   "codemirror_mode": {
    "name": "ipython",
    "version": 3
   },
   "file_extension": ".py",
   "mimetype": "text/x-python",
   "name": "python",
   "nbconvert_exporter": "python",
   "pygments_lexer": "ipython3",
   "version": "3.12.4"
  }
 },
 "nbformat": 4,
 "nbformat_minor": 5
}

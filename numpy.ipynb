{
 "cells": [
  {
   "cell_type": "code",
   "execution_count": 4,
   "id": "26aa9b56-c927-4e33-8d5d-ed71a126f41a",
   "metadata": {},
   "outputs": [
    {
     "name": "stdout",
     "output_type": "stream",
     "text": [
      "Requirement already satisfied: numpy in c:\\users\\hp\\anaconda3\\lib\\site-packages (1.26.4)\n",
      "Note: you may need to restart the kernel to use updated packages.\n"
     ]
    }
   ],
   "source": [
    "pip install numpy"
   ]
  },
  {
   "cell_type": "code",
   "execution_count": 24,
   "id": "6ab9f3b2-79d3-4247-9339-6b808d4e2059",
   "metadata": {},
   "outputs": [
    {
     "name": "stdout",
     "output_type": "stream",
     "text": [
      "[1 2 3 4 5]\n"
     ]
    }
   ],
   "source": [
    "import numpy as np        # 1-dimension\n",
    "arr=np.array([1,2,3,4,5])\n",
    "print(arr)"
   ]
  },
  {
   "cell_type": "code",
   "execution_count": 10,
   "id": "ac5c1487-5833-43a4-aad6-042e7cfcfef2",
   "metadata": {},
   "outputs": [
    {
     "name": "stdout",
     "output_type": "stream",
     "text": [
      "[1 2 3 4 5]\n",
      "<class 'numpy.ndarray'>\n"
     ]
    }
   ],
   "source": [
    "import numpy as np     # 1-dimension to find type\n",
    "arr1=np.array([5,6,8,9])\n",
    "print(arr)\n",
    "print(type(arr))"
   ]
  },
  {
   "cell_type": "code",
   "execution_count": 12,
   "id": "1249f824-1698-4654-92b6-fc8cb6ae2e95",
   "metadata": {},
   "outputs": [
    {
     "name": "stdout",
     "output_type": "stream",
     "text": [
      "42\n"
     ]
    }
   ],
   "source": [
    "import numpy as np    # 0-dimension\n",
    "arr=np.array(42)\n",
    "print(arr)"
   ]
  },
  {
   "cell_type": "code",
   "execution_count": 14,
   "id": "2c460150-6d37-42b0-98a0-85880d9441c3",
   "metadata": {},
   "outputs": [
    {
     "name": "stdout",
     "output_type": "stream",
     "text": [
      "[[1 2 3]\n",
      " [4 5 6]]\n"
     ]
    }
   ],
   "source": [
    "import numpy as np                 # 2-dimension\n",
    "arr=np.array([[1,2,3],[4,5,6]])\n",
    "print(arr)"
   ]
  },
  {
   "cell_type": "code",
   "execution_count": 16,
   "id": "12f6ff60-a1b8-4516-af56-9662aa3fc45f",
   "metadata": {},
   "outputs": [
    {
     "name": "stdout",
     "output_type": "stream",
     "text": [
      "[[[ 1  2  3]\n",
      "  [ 4  5  6]]\n",
      "\n",
      " [[ 7  8  9]\n",
      "  [10 11 12]]]\n"
     ]
    }
   ],
   "source": [
    "import numpy as np                               # 3-dimension\n",
    "arr=np.array([[[1,2,3],[4,5,6]],[[7,8,9],[10,11,12]]])\n",
    "print(arr)"
   ]
  },
  {
   "cell_type": "code",
   "execution_count": 22,
   "id": "beca563f-04de-4376-92fc-b12d1ff14d13",
   "metadata": {},
   "outputs": [
    {
     "name": "stdout",
     "output_type": "stream",
     "text": [
      "0\n",
      "1\n",
      "2\n",
      "3\n"
     ]
    }
   ],
   "source": [
    "import numpy as np                          # dimension checking\n",
    "arr=np.array(56)\n",
    "a=np.array([82,96,75,93,100])\n",
    "b=np.array([[52,89,74,65],[12,41,23,30]])\n",
    "c=np.array([[[19,14,26,69],[95,59,78,71]],[[56,95,75,52],[23,58,97,63]]])\n",
    "print(arr.ndim)\n",
    "print(a.ndim)\n",
    "print(b.ndim)\n",
    "print(c.ndim)"
   ]
  },
  {
   "cell_type": "code",
   "execution_count": 26,
   "id": "d4002811-2c56-44e7-befd-a7df6d1090e8",
   "metadata": {},
   "outputs": [
    {
     "name": "stdout",
     "output_type": "stream",
     "text": [
      "2\n"
     ]
    }
   ],
   "source": [
    "                                 # array indexing  1D\n",
    "import numpy as np\n",
    "arr=np.array([1,2,3,4])\n",
    "print(arr[1])"
   ]
  },
  {
   "cell_type": "code",
   "execution_count": 30,
   "id": "22b5cf64-d056-49c5-a896-86e8eac9d310",
   "metadata": {},
   "outputs": [
    {
     "name": "stdout",
     "output_type": "stream",
     "text": [
      "3rd element on 2nd row : 8\n"
     ]
    }
   ],
   "source": [
    "import numpy as np                    # 2D indexing\n",
    "arr=np.array([[1,2,3],[5,6,8]])\n",
    "print(\"3rd element on 2nd row :\", arr[1,2])"
   ]
  },
  {
   "cell_type": "code",
   "execution_count": 34,
   "id": "83f67c83-4191-4381-b63a-0e32e8190a24",
   "metadata": {},
   "outputs": [
    {
     "name": "stdout",
     "output_type": "stream",
     "text": [
      "3\n"
     ]
    }
   ],
   "source": [
    "                                # 3D indexing\n",
    "import numpy as np\n",
    "arr=np.array([[[5,6,9],[9,5,6]],[[8,6,7],[5,7,3]]])\n",
    "print(arr[1,1,2])"
   ]
  },
  {
   "cell_type": "raw",
   "id": "19a58ca7-8abd-4478-8ba4-dcafa8908e61",
   "metadata": {},
   "source": [
    "\n"
   ]
  },
  {
   "cell_type": "code",
   "execution_count": 40,
   "id": "03c099f7-efd4-4ec2-b4b7-502955a54750",
   "metadata": {},
   "outputs": [
    {
     "name": "stdout",
     "output_type": "stream",
     "text": [
      "[2 8 7]\n"
     ]
    }
   ],
   "source": [
    "                       # slicing\n",
    "import numpy as np\n",
    "arr=np.array([[1,2,3,5,4],[6,2,8,7,1]])\n",
    "print(arr[1,1:4])"
   ]
  },
  {
   "cell_type": "code",
   "execution_count": 44,
   "id": "1eccb7f9-7c95-4dbc-a61c-36ffb79af235",
   "metadata": {},
   "outputs": [
    {
     "name": "stdout",
     "output_type": "stream",
     "text": [
      "[6 5 9 2 7 5]\n"
     ]
    }
   ],
   "source": [
    "import numpy as np\n",
    "arr=np.array([6,5,9,2,7,5,6,78,3,6])\n",
    "print(arr[1:6])"
   ]
  },
  {
   "cell_type": "code",
   "execution_count": null,
   "id": "3cb6fd13-8a62-4377-98ee-0dc12dbb4831",
   "metadata": {},
   "outputs": [],
   "source": []
  }
 ],
 "metadata": {
  "kernelspec": {
   "display_name": "Python [conda env:base] *",
   "language": "python",
   "name": "conda-base-py"
  },
  "language_info": {
   "codemirror_mode": {
    "name": "ipython",
    "version": 3
   },
   "file_extension": ".py",
   "mimetype": "text/x-python",
   "name": "python",
   "nbconvert_exporter": "python",
   "pygments_lexer": "ipython3",
   "version": "3.12.7"
  }
 },
 "nbformat": 4,
 "nbformat_minor": 5
}

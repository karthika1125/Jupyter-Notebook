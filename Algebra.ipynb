{
 "cells": [
  {
   "cell_type": "markdown",
   "id": "65fc8275-5692-45a4-a4a4-1d137d6c6615",
   "metadata": {},
   "source": []
  },
  {
   "cell_type": "code",
   "execution_count": 2,
   "id": "9ef45c62-96e8-443b-931a-5071c50257f2",
   "metadata": {},
   "outputs": [
    {
     "name": "stdout",
     "output_type": "stream",
     "text": [
      "[ 3.65 -2.8 ]\n"
     ]
    }
   ],
   "source": [
    "from scipy.linalg import solve\n",
    "import numpy as np\n",
    "a=np.array([[8,9],[4,2]])\n",
    "b=np.array([4,9])\n",
    "x=solve(a,b)\n",
    "print(x)\n"
   ]
  },
  {
   "cell_type": "code",
   "execution_count": 24,
   "id": "b121e0c1-e039-4135-b8be-a17e4d1ff5c1",
   "metadata": {},
   "outputs": [
    {
     "name": "stdout",
     "output_type": "stream",
     "text": [
      "-12.0\n"
     ]
    }
   ],
   "source": [
    "from scipy.linalg import det\n",
    "import numpy as np\n",
    "a=np.array([[4,6],[8,9]])\n",
    "x=det(a)\n",
    "print(x)"
   ]
  },
  {
   "cell_type": "code",
   "execution_count": 30,
   "id": "6ee7ee1a-ff36-4e0d-ad63-05c592335b04",
   "metadata": {},
   "outputs": [
    {
     "data": {
      "text/plain": [
       "-11.999999999999995"
      ]
     },
     "execution_count": 30,
     "metadata": {},
     "output_type": "execute_result"
    }
   ],
   "source": [
    "# from scipy.linalg import det\n",
    "import numpy as np\n",
    "b=np.array([[7,3],[6,5]])\n",
    "x=np.linalg.det(a)\n",
    "x"
   ]
  },
  {
   "cell_type": "code",
   "execution_count": 34,
   "id": "8d92762e-49be-4894-a3c6-764278b833b6",
   "metadata": {},
   "outputs": [
    {
     "data": {
      "text/plain": [
       "17.0"
      ]
     },
     "execution_count": 34,
     "metadata": {},
     "output_type": "execute_result"
    }
   ],
   "source": [
    "import numpy as np\n",
    "b=np.array([[7,3],[6,5]])\n",
    "x=np.linalg.det(b)\n",
    "x"
   ]
  },
  {
   "cell_type": "code",
   "execution_count": 36,
   "id": "edb38049-f8bb-4de1-9fd7-30691b61355d",
   "metadata": {},
   "outputs": [
    {
     "data": {
      "text/plain": [
       "array([[-0.02040816,  0.12244898],\n",
       "       [ 0.18367347, -0.10204082]])"
      ]
     },
     "execution_count": 36,
     "metadata": {},
     "output_type": "execute_result"
    }
   ],
   "source": [
    "from scipy.linalg import inv\n",
    "import numpy as np\n",
    "b=np.array([[5,6],[9,1]])\n",
    "x=inv(b)\n",
    "x"
   ]
  },
  {
   "cell_type": "code",
   "execution_count": 54,
   "id": "83d41581-335d-405d-a385-f58ec0f068ee",
   "metadata": {},
   "outputs": [
    {
     "name": "stdout",
     "output_type": "stream",
     "text": [
      "Min value :-3.2463942726885335 , Min x : -1.1105114667423885 \n"
     ]
    }
   ],
   "source": [
    "from scipy.optimize import minimize_scalar\n",
    "from math import sin\n",
    "import numpy as np\n",
    "def f(x):\n",
    "    return x**2 + 5 * np.  sin(x)\n",
    "myroot=minimize_scalar( f,bounds=(-10,10),method=\"bounded\")\n",
    "minvalue=myroot.fun\n",
    "minx=myroot.x\n",
    "print(f\"Min value :{minvalue} , Min x : {minx} \")"
   ]
  },
  {
   "cell_type": "code",
   "execution_count": 56,
   "id": "af63920d-a1a8-4a47-8f68-760837e8e1e3",
   "metadata": {},
   "outputs": [
    {
     "name": "stdout",
     "output_type": "stream",
     "text": [
      " Result : 0.7468241328124271 , Error :8.291413475940725e-15\n"
     ]
    }
   ],
   "source": [
    "from scipy.integrate import quad\n",
    "import numpy as np\n",
    "def f(x):\n",
    "    return np.exp(-x**2)\n",
    "result,error=quad(f,0,1)\n",
    "print(f\" Result : {result} , Error :{error}\")\n"
   ]
  },
  {
   "cell_type": "code",
   "execution_count": null,
   "id": "d34297b5-16a9-46d6-8ce0-31b6b02c427d",
   "metadata": {},
   "outputs": [],
   "source": []
  }
 ],
 "metadata": {
  "kernelspec": {
   "display_name": "Python [conda env:base] *",
   "language": "python",
   "name": "conda-base-py"
  },
  "language_info": {
   "codemirror_mode": {
    "name": "ipython",
    "version": 3
   },
   "file_extension": ".py",
   "mimetype": "text/x-python",
   "name": "python",
   "nbconvert_exporter": "python",
   "pygments_lexer": "ipython3",
   "version": "3.12.7"
  }
 },
 "nbformat": 4,
 "nbformat_minor": 5
}

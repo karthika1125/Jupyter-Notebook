{
 "cells": [
  {
   "cell_type": "code",
   "execution_count": 3,
   "id": "c41def06-a35a-4584-8612-954ae7ef19b2",
   "metadata": {},
   "outputs": [
    {
     "name": "stdout",
     "output_type": "stream",
     "text": [
      "<class 'numpy.ndarray'>\n"
     ]
    }
   ],
   "source": [
    " import numpy as np\n",
    "arr=np.array([1,52,89,458])\n",
    "print(type(arr))"
   ]
  },
  {
   "cell_type": "code",
   "execution_count": 5,
   "id": "b823f1ab-c9f2-4085-ad45-5c53133e0eff",
   "metadata": {},
   "outputs": [
    {
     "name": "stdout",
     "output_type": "stream",
     "text": [
      "[[  1   8   9  69 789  56]\n",
      " [ 45  23 456  87  69  14]]\n"
     ]
    }
   ],
   "source": [
    "import numpy as np\n",
    "arr=np.array([[1,8,9,69,789,56],[45,23,456,87,69,14]])\n",
    "print(arr)"
   ]
  },
  {
   "cell_type": "code",
   "execution_count": 9,
   "id": "0036f5f9-2ad5-4110-80a4-e5f2e53f0be4",
   "metadata": {},
   "outputs": [
    {
     "name": "stdout",
     "output_type": "stream",
     "text": [
      "[[[569 781  23 478 963]\n",
      "  [485  69  47  12 100]]\n",
      "\n",
      " [[789 852  98  14  52]\n",
      "  [876 900 800 632 410]]]\n"
     ]
    }
   ],
   "source": [
    "import numpy as np\n",
    "arr=np.array([[[569,781,23,478,963],[485,69,47,12,100]],[[789,852,98,14,52],[876,900,800,632,410]]])\n",
    "print(arr)"
   ]
  },
  {
   "cell_type": "code",
   "execution_count": 11,
   "id": "dfaadd88-7d7d-4ed4-9fd6-3ec65a08dd0b",
   "metadata": {},
   "outputs": [
    {
     "name": "stdout",
     "output_type": "stream",
     "text": [
      "410\n"
     ]
    }
   ],
   "source": [
    "import numpy as np\n",
    "arr=np.array([[[569,781,23,478,963],[485,69,47,12,100]],[[789,852,98,14,52],[876,900,800,632,410]]])\n",
    "print(arr[1,1,4])"
   ]
  },
  {
   "cell_type": "code",
   "execution_count": 13,
   "id": "443ea5ac-1bed-436b-9ce2-2b5c47036393",
   "metadata": {},
   "outputs": [
    {
     "name": "stdout",
     "output_type": "stream",
     "text": [
      "23\n",
      "12\n"
     ]
    }
   ],
   "source": [
    "import numpy as np\n",
    "arr=np.array([[[569,781,23,478,963],[485,69,47,12,100]],[[789,852,98,14,52],[876,900,800,632,410]]])\n",
    "print(arr[0,0,2])\n",
    "print(arr[0,1,3])"
   ]
  },
  {
   "cell_type": "code",
   "execution_count": 19,
   "id": "c4fefb01-56d3-4b4d-9bc3-a7cf4967f99c",
   "metadata": {},
   "outputs": [
    {
     "name": "stdout",
     "output_type": "stream",
     "text": [
      "[569 781  23 478 963 485  69  47  12 100 789 852  98  14  52 876 900 800\n",
      " 632 410]\n"
     ]
    }
   ],
   "source": [
    "import numpy as np\n",
    "arr= np.array([[[569,781,23,478,963],[485,69,47,12,100]],[[789,852,98,14,52],[876,900,800,632,410]]])\n",
    "newarr=arr.reshape(-1)\n",
    "print(newarr)"
   ]
  },
  {
   "cell_type": "code",
   "execution_count": null,
   "id": "72d11b1d-0be8-41ba-a356-01eb6b913dea",
   "metadata": {},
   "outputs": [],
   "source": []
  }
 ],
 "metadata": {
  "kernelspec": {
   "display_name": "Python [conda env:base] *",
   "language": "python",
   "name": "conda-base-py"
  },
  "language_info": {
   "codemirror_mode": {
    "name": "ipython",
    "version": 3
   },
   "file_extension": ".py",
   "mimetype": "text/x-python",
   "name": "python",
   "nbconvert_exporter": "python",
   "pygments_lexer": "ipython3",
   "version": "3.12.7"
  }
 },
 "nbformat": 4,
 "nbformat_minor": 5
}

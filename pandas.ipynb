{
 "cells": [
  {
   "cell_type": "code",
   "execution_count": 1,
   "id": "21b420cf-17e7-49be-b750-14450b0d625b",
   "metadata": {},
   "outputs": [
    {
     "name": "stdout",
     "output_type": "stream",
     "text": [
      "Requirement already satisfied: pandas in c:\\users\\hp\\anaconda3\\lib\\site-packages (2.2.2)\n",
      "Requirement already satisfied: numpy>=1.26.0 in c:\\users\\hp\\anaconda3\\lib\\site-packages (from pandas) (1.26.4)\n",
      "Requirement already satisfied: python-dateutil>=2.8.2 in c:\\users\\hp\\anaconda3\\lib\\site-packages (from pandas) (2.9.0.post0)\n",
      "Requirement already satisfied: pytz>=2020.1 in c:\\users\\hp\\anaconda3\\lib\\site-packages (from pandas) (2024.1)\n",
      "Requirement already satisfied: tzdata>=2022.7 in c:\\users\\hp\\anaconda3\\lib\\site-packages (from pandas) (2023.3)\n",
      "Requirement already satisfied: six>=1.5 in c:\\users\\hp\\anaconda3\\lib\\site-packages (from python-dateutil>=2.8.2->pandas) (1.16.0)\n",
      "Note: you may need to restart the kernel to use updated packages.\n"
     ]
    }
   ],
   "source": [
    "pip install pandas"
   ]
  },
  {
   "cell_type": "code",
   "execution_count": 5,
   "id": "dd34142c-c19e-4c73-9a2e-4c98fb1cfc1f",
   "metadata": {},
   "outputs": [
    {
     "data": {
      "text/plain": [
       "0    1\n",
       "1    8\n",
       "2    7\n",
       "dtype: int64"
      ]
     },
     "execution_count": 5,
     "metadata": {},
     "output_type": "execute_result"
    }
   ],
   "source": [
    "import pandas as pd\n",
    "a=[1,8,7]\n",
    "myvar=pd.Series(a)\n",
    "myvar"
   ]
  },
  {
   "cell_type": "code",
   "execution_count": 7,
   "id": "07b3ab13-4d32-4e59-9dda-4accaa98f47d",
   "metadata": {},
   "outputs": [
    {
     "data": {
      "text/plain": [
       "0    5\n",
       "1    8\n",
       "2    9\n",
       "3    6\n",
       "4    1\n",
       "5    7\n",
       "dtype: int64"
      ]
     },
     "execution_count": 7,
     "metadata": {},
     "output_type": "execute_result"
    }
   ],
   "source": [
    "import pandas as pd\n",
    "b=[5,8,9,6,1,7]\n",
    "myvar=pd.Series(b)\n",
    "myvar"
   ]
  },
  {
   "cell_type": "code",
   "execution_count": 13,
   "id": "978b839f-b607-4b44-b990-a033e32282ba",
   "metadata": {},
   "outputs": [
    {
     "name": "stdout",
     "output_type": "stream",
     "text": [
      "4\n",
      "0    5\n",
      "1    8\n",
      "2    9\n",
      "3    4\n",
      "4    5\n",
      "5    6\n",
      "dtype: int64\n"
     ]
    }
   ],
   "source": [
    "import pandas as pd\n",
    "s=[5,8,9,4,5,6]\n",
    "w=pd.Series(s)\n",
    "print(w[3])\n",
    "print(w)"
   ]
  },
  {
   "cell_type": "code",
   "execution_count": 22,
   "id": "f7bd17d6-ae99-4b72-97f8-4555b1e38477",
   "metadata": {},
   "outputs": [
    {
     "name": "stdout",
     "output_type": "stream",
     "text": [
      "S    1\n",
      "P    8\n",
      "U    7\n",
      "dtype: int64\n"
     ]
    }
   ],
   "source": [
    "import pandas as pd\n",
    "s=[9,5,7]\n",
    "myvar=pd.Series(a,index=[\"S\",\"P\",\"U\"])\n",
    "print(myvar)"
   ]
  },
  {
   "cell_type": "code",
   "execution_count": 28,
   "id": "a0a2fb57-6bbb-4867-b936-954d830001ec",
   "metadata": {},
   "outputs": [
    {
     "name": "stdout",
     "output_type": "stream",
     "text": [
      "A    7\n",
      "B    4\n",
      "C    9\n",
      "D    1\n",
      "dtype: int64\n",
      "9\n"
     ]
    },
    {
     "name": "stderr",
     "output_type": "stream",
     "text": [
      "C:\\Users\\HP\\AppData\\Local\\Temp\\ipykernel_2688\\2049287290.py:5: FutureWarning: Series.__getitem__ treating keys as positions is deprecated. In a future version, integer keys will always be treated as labels (consistent with DataFrame behavior). To access a value by position, use `ser.iloc[pos]`\n",
      "  print(my[2])\n"
     ]
    }
   ],
   "source": [
    "import pandas as pd\n",
    "s=[7,4,9,1]\n",
    "my=pd.Series(s,index=[\"A\",\"B\",\"C\",\"D\"])\n",
    "print(my)\n",
    "print(my[2])"
   ]
  },
  {
   "cell_type": "code",
   "execution_count": null,
   "id": "65d40067-989a-4791-a0d8-12e4a11045b3",
   "metadata": {},
   "outputs": [],
   "source": []
  },
  {
   "cell_type": "code",
   "execution_count": 42,
   "id": "d81218dd-1597-4d4f-b123-93fff5a7f28f",
   "metadata": {},
   "outputs": [
    {
     "name": "stdout",
     "output_type": "stream",
     "text": [
      "   Calories  Duration\n",
      "0       420        50\n",
      "1       854        14\n",
      "2       964         8\n"
     ]
    }
   ],
   "source": [
    "import pandas as pd\n",
    "\n",
    "data = {\n",
    "    \"Calories\": [420, 854, 964],\n",
    "    \"Duration\": [50, 14, 8]\n",
    "}  \n",
    "\n",
    "df = pd.DataFrame(data)  \n",
    "print(df)  \n"
   ]
  },
  {
   "cell_type": "code",
   "execution_count": 49,
   "id": "28cb1530-7f3d-4d4e-b2f0-dbfa56e0d67a",
   "metadata": {},
   "outputs": [
    {
     "data": {
      "text/html": [
       "<div>\n",
       "<style scoped>\n",
       "    .dataframe tbody tr th:only-of-type {\n",
       "        vertical-align: middle;\n",
       "    }\n",
       "\n",
       "    .dataframe tbody tr th {\n",
       "        vertical-align: top;\n",
       "    }\n",
       "\n",
       "    .dataframe thead th {\n",
       "        text-align: right;\n",
       "    }\n",
       "</style>\n",
       "<table border=\"1\" class=\"dataframe\">\n",
       "  <thead>\n",
       "    <tr style=\"text-align: right;\">\n",
       "      <th></th>\n",
       "      <th>calories</th>\n",
       "      <th>Duration</th>\n",
       "    </tr>\n",
       "  </thead>\n",
       "  <tbody>\n",
       "    <tr>\n",
       "      <th>day1</th>\n",
       "      <td>420</td>\n",
       "      <td>50</td>\n",
       "    </tr>\n",
       "    <tr>\n",
       "      <th>day2</th>\n",
       "      <td>854</td>\n",
       "      <td>14</td>\n",
       "    </tr>\n",
       "    <tr>\n",
       "      <th>day3</th>\n",
       "      <td>964</td>\n",
       "      <td>8</td>\n",
       "    </tr>\n",
       "  </tbody>\n",
       "</table>\n",
       "</div>"
      ],
      "text/plain": [
       "      calories  Duration\n",
       "day1       420        50\n",
       "day2       854        14\n",
       "day3       964         8"
      ]
     },
     "execution_count": 49,
     "metadata": {},
     "output_type": "execute_result"
    }
   ],
   "source": [
    "import pandas as pd\n",
    "d={\n",
    "    \"calories\":[420, 854, 964],\n",
    "    \"Duration\":[50, 14, 8]\n",
    "    \n",
    "}\n",
    "df=pd.DataFrame(d,index=[\"day1\",\"day2\",\"day3\"])\n",
    "df"
   ]
  },
  {
   "cell_type": "code",
   "execution_count": 67,
   "id": "c3f96caa-1ec1-4f6f-a1ab-3b1f9546b224",
   "metadata": {},
   "outputs": [
    {
     "data": {
      "text/html": [
       "<div>\n",
       "<style scoped>\n",
       "    .dataframe tbody tr th:only-of-type {\n",
       "        vertical-align: middle;\n",
       "    }\n",
       "\n",
       "    .dataframe tbody tr th {\n",
       "        vertical-align: top;\n",
       "    }\n",
       "\n",
       "    .dataframe thead th {\n",
       "        text-align: right;\n",
       "    }\n",
       "</style>\n",
       "<table border=\"1\" class=\"dataframe\">\n",
       "  <thead>\n",
       "    <tr style=\"text-align: right;\">\n",
       "      <th></th>\n",
       "      <th>Calories</th>\n",
       "      <th>Duration</th>\n",
       "      <th>days</th>\n",
       "    </tr>\n",
       "  </thead>\n",
       "  <tbody>\n",
       "    <tr>\n",
       "      <th>Arun</th>\n",
       "      <td>47</td>\n",
       "      <td>5</td>\n",
       "      <td>day1</td>\n",
       "    </tr>\n",
       "    <tr>\n",
       "      <th>kiran</th>\n",
       "      <td>78</td>\n",
       "      <td>7</td>\n",
       "      <td>day2</td>\n",
       "    </tr>\n",
       "    <tr>\n",
       "      <th>sidhu</th>\n",
       "      <td>96</td>\n",
       "      <td>6</td>\n",
       "      <td>day3</td>\n",
       "    </tr>\n",
       "  </tbody>\n",
       "</table>\n",
       "</div>"
      ],
      "text/plain": [
       "       Calories  Duration  days\n",
       "Arun         47         5  day1\n",
       "kiran        78         7  day2\n",
       "sidhu        96         6  day3"
      ]
     },
     "execution_count": 67,
     "metadata": {},
     "output_type": "execute_result"
    }
   ],
   "source": [
    "import pandas as pd\n",
    "e={\n",
    "    \"Calories\":[47, 78, 96],\n",
    "    \"Duration\":[5, 7, 6],\n",
    "    \"days\":[\"day1\",\"day2\",\"day3\"]\n",
    "    \n",
    "}\n",
    "df=pd.DataFrame(e,index=[\"Arun\",\"kiran\",\"sidhu\"])\n",
    "\n",
    "\n",
    "\n",
    "df"
   ]
  },
  {
   "cell_type": "code",
   "execution_count": 69,
   "id": "bb409ad7-84ae-43f3-bb68-669ad9c68124",
   "metadata": {},
   "outputs": [
    {
     "data": {
      "text/plain": [
       "Calories      96\n",
       "Duration       6\n",
       "days        day3\n",
       "Name: sidhu, dtype: object"
      ]
     },
     "execution_count": 69,
     "metadata": {},
     "output_type": "execute_result"
    }
   ],
   "source": [
    "import pandas as pd\n",
    "e={\n",
    "    \"Calories\":[47, 78, 96],\n",
    "    \"Duration\":[5, 7, 6],\n",
    "    \"days\":[\"day1\",\"day2\",\"day3\"]\n",
    "    \n",
    "}\n",
    "df=pd.DataFrame(e,index=[\"Arun\",\"kiran\",\"sidhu\"])\n",
    "\n",
    "df.loc[\"sidhu\"]\n"
   ]
  },
  {
   "cell_type": "code",
   "execution_count": null,
   "id": "9af369b5-2dac-4ea1-a4ea-381200934690",
   "metadata": {},
   "outputs": [],
   "source": []
  }
 ],
 "metadata": {
  "kernelspec": {
   "display_name": "Python [conda env:base] *",
   "language": "python",
   "name": "conda-base-py"
  },
  "language_info": {
   "codemirror_mode": {
    "name": "ipython",
    "version": 3
   },
   "file_extension": ".py",
   "mimetype": "text/x-python",
   "name": "python",
   "nbconvert_exporter": "python",
   "pygments_lexer": "ipython3",
   "version": "3.12.7"
  }
 },
 "nbformat": 4,
 "nbformat_minor": 5
}
